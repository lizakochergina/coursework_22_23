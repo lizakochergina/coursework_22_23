{
  "nbformat": 4,
  "nbformat_minor": 0,
  "metadata": {
    "colab": {
      "provenance": []
    },
    "kernelspec": {
      "name": "python3",
      "display_name": "Python 3"
    },
    "language_info": {
      "name": "python"
    },
    "gpuClass": "standard",
    "accelerator": "GPU"
  },
  "cells": [
    {
      "cell_type": "code",
      "execution_count": 1,
      "metadata": {
        "id": "Xi8jHSuBKGN8"
      },
      "outputs": [],
      "source": [
        "import torch\n",
        "import torch.nn as nn\n",
        "import torch.nn.functional as F\n",
        "import torch.optim as optim\n",
        "import torchvision\n",
        "import torchvision.transforms as transforms\n",
        "\n",
        "import numpy as np\n",
        "import pandas as pd\n",
        "import matplotlib.pyplot as plt\n",
        "\n",
        "from sklearn.model_selection import train_test_split"
      ]
    },
    {
      "cell_type": "code",
      "source": [
        "import tensorflow as tf"
      ],
      "metadata": {
        "id": "NPfkOjdMta0h"
      },
      "execution_count": 39,
      "outputs": []
    },
    {
      "cell_type": "markdown",
      "source": [
        "## getting data ready"
      ],
      "metadata": {
        "id": "hflsY7Qsu0nu"
      }
    },
    {
      "cell_type": "code",
      "source": [
        "import preprocessing\n",
        "preprocessing._VERSION = 'data_v4'\n",
        "\n",
        "def preprocess_features(features):\n",
        "    # features:\n",
        "    #   crossing_angle [-20, 20]\n",
        "    #   dip_angle [-60, 60]\n",
        "    #   drift_length [35, 290]\n",
        "    #   pad_coordinate [40-something, 40-something]\n",
        "    bin_fractions = features[:, 2:4] % 1\n",
        "    features = (features[:, :3] - np.array([[0.0, 0.0, 162.5]])) / np.array([[20.0, 60.0, 127.5]])\n",
        "    return np.concatenate([features, bin_fractions], axis=-1)"
      ],
      "metadata": {
        "id": "hL3A7U4vpG9M"
      },
      "execution_count": 4,
      "outputs": []
    },
    {
      "cell_type": "code",
      "source": [
        "pad_range = (-3, 5)\n",
        "time_range = (-7, 9)\n",
        "data, features = preprocessing.read_csv_2d(\n",
        "    filename='digits.csv', pad_range=pad_range, time_range=time_range\n",
        ")"
      ],
      "metadata": {
        "id": "dmbUAuoeptJN"
      },
      "execution_count": 5,
      "outputs": []
    },
    {
      "cell_type": "code",
      "source": [
        "data.shape, features.shape"
      ],
      "metadata": {
        "colab": {
          "base_uri": "https://localhost:8080/"
        },
        "id": "1dpIKQj9qRPW",
        "outputId": "24bf66e3-19b9-4c40-ef06-a3e369e3a056"
      },
      "execution_count": 6,
      "outputs": [
        {
          "output_type": "execute_result",
          "data": {
            "text/plain": [
              "((20000, 8, 16), (20000, 4))"
            ]
          },
          "metadata": {},
          "execution_count": 6
        }
      ]
    },
    {
      "cell_type": "code",
      "source": [
        "data_scaled = np.log10(1 + data).astype('float32')\n",
        "features_processed = preprocess_features(features).astype('float32')\n",
        "data_train, data_test, features_train, features_test = train_test_split(data_scaled, features_processed, test_size=0.25, random_state=42)"
      ],
      "metadata": {
        "id": "VNI3BL28p72s"
      },
      "execution_count": 7,
      "outputs": []
    },
    {
      "cell_type": "code",
      "source": [
        "plt.figure(figsize=(17, 5))\n",
        "for i in range(5):\n",
        "  plt.subplot(2, 5, i + 1 + 5)\n",
        "  plt.imshow(data_test[i,::-1], extent=(*time_range, *pad_range))\n",
        "  plt.title('real')\n",
        "plt.show()"
      ],
      "metadata": {
        "colab": {
          "base_uri": "https://localhost:8080/",
          "height": 146
        },
        "id": "2kcSufpRr_8o",
        "outputId": "3726cac8-325b-4c37-fd5a-13a5e4e02655"
      },
      "execution_count": 7,
      "outputs": [
        {
          "output_type": "display_data",
          "data": {
            "text/plain": [
              "<Figure size 1224x360 with 5 Axes>"
            ],
            "image/png": "[encoded data removed]"
          },
          "metadata": {
            "needs_background": "light"
          }
        }
      ]
    },
    {
      "cell_type": "markdown",
      "source": [
        "## training"
      ],
      "metadata": {
        "id": "WeQBV3pW1gzP"
      }
    },
    {
      "cell_type": "code",
      "source": [
        "device = torch.device('cuda:0' if torch.cuda.is_available() else 'cpu')\n",
        "print(device)"
      ],
      "metadata": {
        "colab": {
          "base_uri": "https://localhost:8080/"
        },
        "id": "wnXj6GW6YQ3B",
        "outputId": "c0a37010-492b-4d58-c1ed-2f71e9017b8d"
      },
      "execution_count": 48,
      "outputs": [
        {
          "output_type": "stream",
          "name": "stdout",
          "text": [
            "cuda:0\n"
          ]
        }
      ]
    },
    {
      "cell_type": "code",
      "source": [
        "n_classes = 10\n",
        "in_channels = 3\n",
        "out_channels = 32\n",
        "\n",
        "\n",
        "def new_block(in_channels, out_channels, kernel_size=3, padding=1, p=0.2):\n",
        "    return nn.Sequential(\n",
        "        nn.Conv2d(in_channels=in_channels, out_channels=out_channels,kernel_size=kernel_size, padding=padding),\n",
        "        nn.ELU(),\n",
        "        nn.Dropout(p=p)\n",
        "    )\n",
        "\n",
        "class Discriminator(nn.Module):\n",
        "    def __init__(self):\n",
        "        super().__init__()\n",
        "\n",
        "        self.encoder1 = nn.Sequential(                        #     bs  f   h  w\n",
        "            new_block(in_channels=6, out_channels=16),       # -> [bs, 16, 8, 16]\n",
        "            new_block(in_channels=16, out_channels=16),      # -> [bs, 16, 8, 16]\n",
        "        )\n",
        "\n",
        "        self.encoder2 = nn.Sequential(\n",
        "            nn.MaxPool2d(kernel_size=(2,2), stride=(2, 2)), #  -> [bs, 16, 8, 8]\n",
        "            new_block(in_channels=16, out_channels=32),      # -> [bs, 32, 8, 8]\n",
        "            new_block(in_channels=32, out_channels=32),      # -> [bs, 32, 8, 8]\n",
        "            nn.MaxPool2d(kernel_size=(2,2), stride=(2, 2)),  # -> [bs, 32, 4, 4]\n",
        "            new_block(in_channels=32, out_channels=64, padding=0),          # -> [bs, 64, 2, 2]\n",
        "            new_block(in_channels=64, out_channels=64, kernel_size=2, padding=0) # -> [bs, 64, 1, 1]\n",
        "        )\n",
        "\n",
        "        self.linear = nn.Sequential(\n",
        "            nn.Linear(in_features=69, out_features=128),\n",
        "            nn.ELU(),\n",
        "            nn.Linear(in_features=128, out_features=1)\n",
        "        )\n",
        "\n",
        "    def forward(self, features, image):  # features [bs, 5]  image [bs, 8, 16]\n",
        "        bs, h, w = image.shape\n",
        "        _, k = features.shape\n",
        "        in_image = image.reshape((bs, 1, h, w))\n",
        "        in_features = features.reshape((bs, k, 1, 1))\n",
        "        in_features = torch.tile(in_features, (1, 1, h, w)) # -> features [bs, k, h, w]\n",
        "        out = torch.cat((in_features, in_image), dim=1) # -> [bs, k+1, h, w]\n",
        "        out = self.encoder1(out)\n",
        "        out = F.pad(out, (0, 0, h//2, h//2))\n",
        "        out = self.encoder2(out)\n",
        "        out = out.squeeze()\n",
        "        out = torch.cat((features, out), dim=1) # -> [bs, 69]\n",
        "        out = self.linear(out)\n",
        "        return out\n",
        "\n",
        "\n",
        "class CustomActivation(nn.Module):  \n",
        "    def __init__(self):\n",
        "        super().__init__()\n",
        "\n",
        "    def forward(self, x):\n",
        "      shift = 0.01\n",
        "      val = np.log10(2)\n",
        "      v0 = np.log10(2) / 10\n",
        "      return torch.where(\n",
        "          x > shift, \n",
        "          val + x - shift,\n",
        "          v0 + nn.ELU(alpha=(v0 * shift / (val - v0)))(x) * (val - v0) / shift\n",
        "      )\n",
        "\n",
        "\n",
        "class Generator(nn.Module):\n",
        "    def __init__(self):\n",
        "        super().__init__()\n",
        "\n",
        "        self.encoder = nn.Sequential(        #     [bs  n]\n",
        "            nn.Linear(in_features=37, out_features=32),\n",
        "            nn.ELU(),\n",
        "            nn.Linear(in_features=32, out_features=64),\n",
        "            nn.ELU(),\n",
        "            nn.Linear(in_features=64, out_features=64),\n",
        "            nn.ELU(),\n",
        "            nn.Linear(in_features=64, out_features=64),\n",
        "            nn.ELU(),\n",
        "            nn.Linear(in_features=64, out_features=128),\n",
        "            CustomActivation()\n",
        "        )\n",
        "\n",
        "    def forward(self, features, image):  # features [bs, 5]  image [bs, 32]\n",
        "        bs, n = image.shape\n",
        "        _, k = features.shape\n",
        "        out = torch.cat((features, image), dim=1)  # -> [bs, 37]\n",
        "        out = self.encoder(out)  # -> [bs, 128]\n",
        "        out = out.reshape((bs, 8, 16))  # -> [bs, 8, 16]\n",
        "        return out"
      ],
      "metadata": {
        "id": "NfmtOqTHKKa8"
      },
      "execution_count": 51,
      "outputs": []
    },
    {
      "cell_type": "code",
      "source": [
        "def make_fake(features):\n",
        "    bs = features.shape[0]\n",
        "    data = Variable(torch.rand((bs, LATENT_DIM), dtype=torch.float32), requires_grad=True).to(device)\n",
        "    return generator(features, data)\n",
        "\n",
        "def disc_loss(d_real, d_fake):\n",
        "    return torch.mean(d_fake - d_real)\n",
        "\n",
        "def gen_loss(d_real, d_fake):\n",
        "    return torch.mean(d_real - d_fake)\n",
        "\n",
        "def gradient_penalty(features, real, fake):\n",
        "    bs = real.shape[0]\n",
        "    alpha = torch.rand((bs, 1, 1), requires_grad=True).to(device)\n",
        "    interpolates = alpha * real + (1 - alpha) * fake\n",
        "    d_int = discriminator(features, interpolates)\n",
        "    grads = torch.autograd.grad(d_int.sum(), interpolates, create_graph=True)[0].reshape((bs, -1))\n",
        "    return torch.mean(torch.maximum(torch.norm(grads, p=2, dim=-1) - 1, torch.Tensor([0]).to(device))**2)\n",
        "\n",
        "\n",
        "def disc_step(feature_batch, data_batch):\n",
        "    feature_batch = Variable(torch.from_numpy(feature_batch), requires_grad=True).to(device)\n",
        "    data_batch = Variable(torch.from_numpy(data_batch), requires_grad=True).to(device)\n",
        "    data_fake = make_fake(feature_batch)\n",
        "\n",
        "    disc_optimizer.zero_grad()\n",
        "\n",
        "    d_real = discriminator(feature_batch, data_batch)\n",
        "    d_fake = discriminator(feature_batch, data_fake)\n",
        "    d_loss = disc_loss(d_real, d_fake) + GP_LAMBDA * gradient_penalty(feature_batch, data_batch, data_fake)\n",
        "\n",
        "    d_loss.backward()\n",
        "    disc_optimizer.step()\n",
        "    disc_scheduler.step()\n",
        "    gen_scheduler.step()\n",
        "\n",
        "    with torch.no_grad():\n",
        "      g_loss = gen_loss(d_real, d_fake)\n",
        "\n",
        "    loss_vals = d_loss.item(), g_loss.item()\n",
        "    return loss_vals\n",
        "\n",
        "\n",
        "def gen_step(feature_batch, data_batch):\n",
        "    feature_batch = Variable(torch.from_numpy(feature_batch), requires_grad=True).to(device)\n",
        "    data_batch = Variable(torch.from_numpy(data_batch), requires_grad=True).to(device)\n",
        "    d_real = discriminator(feature_batch, data_batch)\n",
        "\n",
        "    gen_optimizer.zero_grad()\n",
        "    data_fake = make_fake(feature_batch)\n",
        "    d_fake = discriminator(feature_batch, data_fake)\n",
        "    g_loss = gen_loss(d_real, d_fake)\n",
        "    g_loss.backward()\n",
        "    gen_optimizer.step()\n",
        "\n",
        "    d_loss = disc_loss(d_real, d_fake) + GP_LAMBDA * gradient_penalty(feature_batch, data_batch, data_fake)\n",
        "\n",
        "    loss_vals = d_loss.item(), g_loss.item()\n",
        "\n",
        "    disc_scheduler.step()\n",
        "    gen_scheduler.step()\n",
        "    \n",
        "    return loss_vals\n",
        "\n"
      ],
      "metadata": {
        "id": "4lr5sYDKyqup"
      },
      "execution_count": 84,
      "outputs": []
    },
    {
      "cell_type": "code",
      "source": [
        "from itertools import cycle\n",
        "from torch.autograd import Variable\n",
        "\n",
        "NUM_EPOCHS = 51\n",
        "BATCH_SIZE = 32\n",
        "NUM_DISC_UPDATES = 2\n",
        "LATENT_DIM = 32\n",
        "GP_LAMBDA = 10\n",
        "\n",
        "discriminator = Discriminator().to(device)\n",
        "generator = Generator().to(device)\n",
        "\n",
        "disc_optimizer = optim.RMSprop(discriminator.parameters(), lr=0.0001)\n",
        "gen_optimizer = optim.RMSprop(generator.parameters(), lr=0.0001)\n",
        "\n",
        "disc_scheduler = optim.lr_scheduler.ExponentialLR(disc_optimizer, gamma=0.999)\n",
        "gen_scheduler = optim.lr_scheduler.ExponentialLR(gen_optimizer, gamma=0.999)\n",
        "\n",
        "train_loss = []\n",
        "val_loss = []\n",
        "\n",
        "sequence = iter(cycle([disc_step for _ in range(NUM_DISC_UPDATES)] + [gen_step]))\n",
        "\n",
        "losses_train = []\n",
        "losses_test = []\n",
        "\n",
        "for epoch in range(NUM_EPOCHS):\n",
        "    shuffle_ids = np.random.permutation(len(data_train))\n",
        "    discriminator.train()\n",
        "    generator.train()\n",
        "    for i in range(0, len(data_train), BATCH_SIZE):\n",
        "        data_batch = data_train[shuffle_ids][i:i+BATCH_SIZE]\n",
        "        feature_batch = features_train[shuffle_ids][i:i+BATCH_SIZE]\n",
        "        losses = next(sequence)(feature_batch, data_batch)\n",
        "        losses_train.append((epoch, i, *losses))\n",
        "\n",
        "    losses = np.array([0, 0], dtype='float32')\n",
        "    discriminator.eval()\n",
        "    generator.eval()\n",
        "    for i in range(0, len(data_test), BATCH_SIZE):\n",
        "        feature_batch = Variable(torch.from_numpy(features_test[i:i+BATCH_SIZE]), requires_grad=True).to(device)\n",
        "        data_batch = Variable(torch.from_numpy(data_test[i:i+BATCH_SIZE]), requires_grad=True).to(device)\n",
        "        data_fake = make_fake(feature_batch)\n",
        "        d_real = discriminator(feature_batch, data_batch)\n",
        "        d_fake = discriminator(feature_batch, data_fake)\n",
        "        d_loss = disc_loss(d_real, d_fake) + GP_LAMBDA * gradient_penalty(feature_batch, data_batch, data_fake)\n",
        "        g_loss = gen_loss(d_real, d_fake)\n",
        "        losses += np.array([d_loss.item(), g_loss.item()])\n",
        "    losses /= len(data_test)\n",
        "    losses_test.append((epoch, *losses))\n",
        "\n",
        "    print(\"Epoch \", epoch, \"  Losses (disc, gen): {}, {}\".format(*losses))\n"
      ],
      "metadata": {
        "id": "3nTdbisVGqdQ"
      },
      "execution_count": null,
      "outputs": []
    },
    {
      "cell_type": "code",
      "source": [
        "torch.save(generator, 'generator.pth')\n",
        "torch.save(discriminator, 'discriminator.pth')"
      ],
      "metadata": {
        "id": "iOwWD2I2J3mH"
      },
      "execution_count": 53,
      "outputs": []
    },
    {
      "cell_type": "code",
      "source": [
        "losses_train = pd.DataFrame(losses_train, columns=['epoch', 'sample', 'disc_loss', 'gen_loss'])\n",
        "losses_test  = pd.DataFrame(losses_test , columns=['epoch',           'disc_loss', 'gen_loss'])"
      ],
      "metadata": {
        "id": "BnGC-zCR78_x"
      },
      "execution_count": 54,
      "outputs": []
    },
    {
      "cell_type": "code",
      "source": [
        "plt.plot(losses_train.epoch + losses_train['sample'] / len(data_train), losses_train.disc_loss, label='disc, train')\n",
        "plt.plot(losses_test .epoch                                        , losses_test .disc_loss, label='disc, test' )\n",
        "plt.plot(losses_train.epoch + losses_train['sample'] / len(data_train), losses_train.gen_loss , label='gen, train')\n",
        "plt.plot(losses_test .epoch                                        , losses_test .gen_loss , label='gen, test' )\n",
        "plt.legend();"
      ],
      "metadata": {
        "colab": {
          "base_uri": "https://localhost:8080/",
          "height": 265
        },
        "id": "J-gG9HmEDd7S",
        "outputId": "c5836e3f-39e2-45a8-addc-4ca11dd9bee3"
      },
      "execution_count": 55,
      "outputs": [
        {
          "output_type": "display_data",
          "data": {
            "text/plain": [
              "<Figure size 432x288 with 1 Axes>"
            ],
            "image/png": "[encoded data removed]"
          },
          "metadata": {
            "needs_background": "light"
          }
        }
      ]
    },
    {
      "cell_type": "code",
      "source": [
        "fake = make_fake(torch.from_numpy(features_test).to(device)).cpu().detach().numpy()"
      ],
      "metadata": {
        "id": "eOCvFPIbDxdk"
      },
      "execution_count": 56,
      "outputs": []
    },
    {
      "cell_type": "code",
      "source": [
        "\n",
        "plt.figure(figsize=(17, 5))\n",
        "for i in range(5):\n",
        "  plt.subplot(2, 5, i + 1)\n",
        "  plt.imshow(fake[i,::-1], extent=(*time_range, *pad_range))\n",
        "  plt.title('generated')\n",
        "\n",
        "for i in range(5):\n",
        "  plt.subplot(2, 5, i + 1 + 5)\n",
        "  plt.imshow(data_test[i,::-1], extent=(*time_range, *pad_range))\n",
        "  plt.title('real')\n",
        "plt.show();"
      ],
      "metadata": {
        "colab": {
          "base_uri": "https://localhost:8080/",
          "height": 294
        },
        "id": "LsR-TC7MDgZ3",
        "outputId": "9b303046-8215-482b-d482-50e50df52556"
      },
      "execution_count": 57,
      "outputs": [
        {
          "output_type": "display_data",
          "data": {
            "text/plain": [
              "<Figure size 1224x360 with 10 Axes>"
            ],
            "image/png": "[encoded data removed]"
          },
          "metadata": {
            "needs_background": "light"
          }
        }
      ]
    },
    {
      "cell_type": "code",
      "source": [
        "def gaussian_fit(img):\n",
        "    assert img.ndim == 2\n",
        "    assert (img >= 0).all()\n",
        "    assert (img > 0).any()\n",
        "    img_n = img / img.sum()\n",
        "\n",
        "    mu = np.fromfunction(\n",
        "        lambda i, j: (img_n[np.newaxis,...] * np.stack([i, j])).sum(axis=(1, 2)),\n",
        "        shape=img.shape\n",
        "    )\n",
        "    cov = np.fromfunction(\n",
        "        lambda i, j: (\n",
        "            (img_n[np.newaxis,...] * np.stack([i * i, j * i, i * j, j * j])).sum(axis=(1, 2))\n",
        "        ) - np.stack([mu[0]**2, mu[0]*mu[1], mu[0]*mu[1], mu[1]**2]),\n",
        "        shape=img.shape\n",
        "    ).reshape(2, 2)\n",
        "\n",
        "    return mu, cov\n",
        "\n",
        "def get_val_metric_single(img):\n",
        "    assert img.ndim == 2\n",
        "    img = np.where(img < 0, 0, img)\n",
        "    mu, cov = gaussian_fit(img)\n",
        "    return np.array((*mu, *cov.diagonal(), cov[0, 1], img.sum()))\n",
        "\n",
        "get_val_metric = np.vectorize(get_val_metric_single, signature='(m,n)->(k)')"
      ],
      "metadata": {
        "id": "SeqBgn9xEJH3"
      },
      "execution_count": 58,
      "outputs": []
    },
    {
      "cell_type": "code",
      "source": [
        "metric_real = get_val_metric(data_test)\n",
        "metric_fake = get_val_metric(fake)"
      ],
      "metadata": {
        "id": "baf8jZruM1C1"
      },
      "execution_count": 59,
      "outputs": []
    },
    {
      "cell_type": "code",
      "source": [
        "plt.figure(figsize=(14, 8))\n",
        "labels = ['x0', 'x1', 'sigma0^2', 'sigma1^2', 'cov', 'amplitude']\n",
        "for i in range(6):\n",
        "    plt.subplot(2, 3, i + 1)\n",
        "    r = metric_real[:,i]\n",
        "    f = metric_fake[:,i]\n",
        "    bins = np.linspace(\n",
        "        min(r.min(), f.min()),\n",
        "        max(r.max(), f.max()),\n",
        "        50\n",
        "    )\n",
        "\n",
        "    plt.hist(r, bins=bins, label='real'     , alpha=0.8)\n",
        "    plt.hist(f, bins=bins, label='generated', alpha=0.5)\n",
        "    plt.legend()\n",
        "    plt.title(labels[i])\n",
        "plt.tight_layout()\n",
        "plt.show();\n"
      ],
      "metadata": {
        "colab": {
          "base_uri": "https://localhost:8080/",
          "height": 585
        },
        "id": "f18eLFEWNDfA",
        "outputId": "16eca12a-8a49-41ee-9464-5dec06b0f450"
      },
      "execution_count": 60,
      "outputs": [
        {
          "output_type": "display_data",
          "data": {
            "text/plain": [
              "<Figure size 1008x576 with 6 Axes>"
            ],
            "image/png": "[encoded data removed]"
          },
          "metadata": {
            "needs_background": "light"
          }
        }
      ]
    },
    {
      "cell_type": "code",
      "source": [],
      "metadata": {
        "id": "OeG7i_o6NINB"
      },
      "execution_count": null,
      "outputs": []
    }
  ]
}